{
 "cells": [
  {
   "cell_type": "markdown",
   "metadata": {},
   "source": [
    "# Interview Assignment"
   ]
  },
  {
   "cell_type": "code",
   "execution_count": 1,
   "metadata": {},
   "outputs": [],
   "source": [
    "import os, random\n",
    "from collections import Counter\n",
    "\n",
    "import numpy as np\n",
    "import matplotlib.pyplot as plt\n",
    "import nltk\n",
    "from sklearn.feature_extraction.text import TfidfVectorizer\n",
    "\n",
    "HTTP_METHODS = ['GET', 'HEAD', 'POST', 'PUT', 'DELETE', 'CONNECT', 'OPTIONS', 'TRACE', 'PATCH']"
   ]
  },
  {
   "cell_type": "markdown",
   "metadata": {},
   "source": [
    "First we load individual requests from dataset. `load_requests_from_file` splits the files at the HTTP_METHODS keywords. `load_dataset` then merges train and test data in order to use supervised learning and adds coresponding labels. Finally `shuffle_requests_and_labels` shuffles requests and labels with same seed.\n",
    "\n",
    "##### Labels\n",
    "* 0 - normal request\n",
    "* 1 - anomalous request"
   ]
  },
  {
   "cell_type": "code",
   "execution_count": 2,
   "metadata": {},
   "outputs": [],
   "source": [
    "def load_requests_from_file(fname):\n",
    "    requests = []\n",
    "    \n",
    "    with open(fname) as f:\n",
    "        request = \"\"\n",
    "        for line in f:\n",
    "            if line.split(\" \")[0] in HTTP_METHODS and len(request) > 0:\n",
    "                requests.append(request.strip())\n",
    "                request = \"\"\n",
    "            request = request + line\n",
    "            \n",
    "    return requests\n",
    "\n",
    "def load_dataset(dataset_dir):\n",
    "    train_normal_requests = load_requests_from_file(os.path.join(dataset_dir, 'normalTrafficTraining.txt'))\n",
    "    test_normal_requests = load_requests_from_file(os.path.join(dataset_dir, 'normalTrafficTest.txt'))\n",
    "    test_anomalous_requests = load_requests_from_file(os.path.join(dataset_dir, 'anomalousTrafficTest.txt'))\n",
    "\n",
    "    requests = []\n",
    "    labels = []\n",
    "    \n",
    "    for request in train_normal_requests + test_normal_requests:\n",
    "        requests.append(request)\n",
    "        labels.append(0) # 0 for normal\n",
    "        \n",
    "    for request in test_anomalous_requests:\n",
    "        requests.append(request)\n",
    "        labels.append(1) # 1 for anomalous\n",
    "    \n",
    "    return (requests, labels)\n",
    "\n",
    "def shuffle_requests_and_labels(requests, labels, seed=1234):\n",
    "    random.seed(seed)\n",
    "    random.shuffle(requests)\n",
    "    random.seed(seed)\n",
    "    random.shuffle(labels)\n",
    "    \n",
    "    return (requests, labels)\n",
    "\n",
    "(requests, labels) = load_dataset('dataset')\n",
    "(requests, labels) = shuffle_requests_and_labels(requests, labels)"
   ]
  },
  {
   "cell_type": "markdown",
   "metadata": {},
   "source": [
    "Because we merged train and test data (in order to get labeled dataset), we now have to split the data in two labeled train and test sets. We use 80% for training data and 20% for test data."
   ]
  },
  {
   "cell_type": "code",
   "execution_count": 3,
   "metadata": {},
   "outputs": [],
   "source": [
    "boundary = int(len(requests)*0.8)\n",
    "train_requests = requests[:boundary]\n",
    "train_labels = np.array(labels[:boundary])\n",
    "\n",
    "test_requests = requests[boundary:]\n",
    "test_labels = np.array(labels[boundary:])"
   ]
  },
  {
   "cell_type": "markdown",
   "metadata": {},
   "source": [
    "Now we get some metrics from the training set and plot some of it features. We can see from the output that the dataset is imbalanced with aprox. 3:1 ratio."
   ]
  },
  {
   "cell_type": "code",
   "execution_count": 4,
   "metadata": {},
   "outputs": [
    {
     "name": "stdout",
     "output_type": "stream",
     "text": [
      "Training set:\n",
      "Total # of requests: 77649\n",
      "# of normal requests: 57667\n",
      "# of anomalous requests: 19982\n",
      "normal/anomalous ratio: 2.8859473526173556\n"
     ]
    },
    {
     "data": {
      "image/png": "[encoded data removed]",
      "text/plain": [
       "<Figure size 432x288 with 1 Axes>"
      ]
     },
     "metadata": {
      "needs_background": "light"
     },
     "output_type": "display_data"
    },
    {
     "data": {
      "image/png": "[encoded data removed]",
      "text/plain": [
       "<Figure size 432x288 with 1 Axes>"
      ]
     },
     "metadata": {
      "needs_background": "light"
     },
     "output_type": "display_data"
    }
   ],
   "source": [
    "def plot_request_length_distribution(requests):\n",
    "    plt.hist([len(r) for r in requests], 50)\n",
    "    plt.xlabel('Length of a request')\n",
    "    plt.ylabel('Number of requests')\n",
    "    plt.title('Request length distribution')\n",
    "    plt.show()\n",
    "    \n",
    "def plot_request_method_distribution(requests):\n",
    "    counter = Counter([r.split(\" \")[0] for r in requests])\n",
    "    plt.bar(range(len(counter)), list(counter.values()))\n",
    "    plt.xticks(range(len(counter)), list(counter.keys()))\n",
    "    plt.title('Request method distribution')\n",
    "    plt.show()\n",
    "\n",
    "print(\"Training set:\")\n",
    "print(\"Total # of requests: {}\".format(len(train_requests)))\n",
    "print(\"# of normal requests: {}\".format(np.count_nonzero(train_labels == 0)))\n",
    "print(\"# of anomalous requests: {}\".format(np.count_nonzero(train_labels == 1)))\n",
    "print(\"normal/anomalous ratio: {}\".format(np.count_nonzero(train_labels == 0)/np.count_nonzero(train_labels == 1)))\n",
    "plot_request_length_distribution(train_requests)\n",
    "plot_request_method_distribution(train_requests)"
   ]
  },
  {
   "cell_type": "markdown",
   "metadata": {},
   "source": [
    "Now we can tokenize and vectorize both of our sets."
   ]
  },
  {
   "cell_type": "code",
   "execution_count": 5,
   "metadata": {},
   "outputs": [],
   "source": [
    "N_GRAMS_SIZE = (3, 3) # sizes of n-grams to be used\n",
    "MIN_DF = 2 # minimal occurences of token for it to appear in features\n",
    "\n",
    "def tokenize_and_vectorize(train_requests, test_requests):\n",
    "    kwargs = {\n",
    "                'ngram_range': N_GRAMS_SIZE,\n",
    "                'strip_accents': 'unicode',\n",
    "                'decode_error': 'replace',\n",
    "                'analyzer': 'char',\n",
    "                'min_df': MIN_DF\n",
    "        }\n",
    "\n",
    "    vectorizer = TfidfVectorizer(**kwargs)\n",
    "\n",
    "    x_train = vectorizer.fit_transform(train_requests)\n",
    "    x_test = vectorizer.transform(test_requests)\n",
    "\n",
    "    return x_train, x_test\n",
    "    \n",
    "x_train, x_test = tokenize_and_vectorize(train_requests, test_requests)"
   ]
  },
  {
   "cell_type": "code",
   "execution_count": null,
   "metadata": {},
   "outputs": [],
   "source": []
  }
 ],
 "metadata": {
  "kernelspec": {
   "display_name": "Python 3",
   "language": "python",
   "name": "python3"
  },
  "language_info": {
   "codemirror_mode": {
    "name": "ipython",
    "version": 3
   },
   "file_extension": ".py",
   "mimetype": "text/x-python",
   "name": "python",
   "nbconvert_exporter": "python",
   "pygments_lexer": "ipython3",
   "version": "3.7.3"
  }
 },
 "nbformat": 4,
 "nbformat_minor": 2
}
