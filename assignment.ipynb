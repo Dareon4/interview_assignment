{
 "cells": [
  {
   "cell_type": "markdown",
   "metadata": {},
   "source": [
    "# Interview Assignment\n",
    "#### Jakub Brož"
   ]
  },
  {
   "cell_type": "markdown",
   "metadata": {},
   "source": [
    "### Character n-grams\n",
    "A good way to tackle text machine learning problem is using n-grams. Word based n-grams don't really make sense here because extracting meaningful words from string of HTTP request wouldn't be so easy and because individual non-alphanumeric characters are also important. The case of characters was left untouched because it may play important role in some types of requests (eg. SQL injection).\n",
    "\n",
    "### Tf-idf\n",
    "To extract numeric features from those n-grams TfidfVectorizer from skicit-learn is used. Tf-idf works nice here because it gives the n-grams that are important for the classification higher rating. For example the 3-gram \"GET\" will occur in many of these requests but has no real value for the classification. On the other hand the 3-grams from SQL key-words like \"SELECT\", \"FROM\" or \"DROP TABLE\" will be found in most of the anomalous SQL injection requests but presumably not in many ordinary requests.\n",
    "\n",
    "### SVM\n",
    "For the classifier SVM was chosen because it's easy to set up, it's effective in high dimensional space of features and works great with tf-idf on text problems."
   ]
  },
  {
   "cell_type": "code",
   "execution_count": 1,
   "metadata": {},
   "outputs": [],
   "source": [
    "%matplotlib inline\n",
    "\n",
    "import numpy as np\n",
    "import matplotlib.pyplot as plt\n",
    "\n",
    "from data_utils import *\n",
    "\n",
    "plt.rcParams['figure.figsize'] = [18, 12]"
   ]
  },
  {
   "cell_type": "markdown",
   "metadata": {},
   "source": [
    "First we load individual requests from dataset. `load_supervised_dataset` from `data_utils.py` loads and merges train and test sets, creating one set of labeled shuffled requests. \n",
    "\n",
    "##### Labels\n",
    "* 0 - normal request\n",
    "* 1 - anomalous request"
   ]
  },
  {
   "cell_type": "code",
   "execution_count": 2,
   "metadata": {},
   "outputs": [],
   "source": [
    "requests, labels = load_supervised_dataset('dataset')"
   ]
  },
  {
   "cell_type": "markdown",
   "metadata": {},
   "source": [
    "Because we merged train and test data (in order to get labeled dataset), we now have to split the data in two labeled train and test sets. We use 80% for training data and 20% for test data."
   ]
  },
  {
   "cell_type": "code",
   "execution_count": 3,
   "metadata": {},
   "outputs": [],
   "source": [
    "boundary = int(len(requests)*0.8)\n",
    "X_train = np.array(requests[:boundary])\n",
    "y_train = np.array(labels[:boundary])\n",
    "\n",
    "X_test = np.array(requests[boundary:])\n",
    "y_test = np.array(labels[boundary:])"
   ]
  },
  {
   "cell_type": "markdown",
   "metadata": {},
   "source": [
    "Now we get some info about the training set."
   ]
  },
  {
   "cell_type": "code",
   "execution_count": 4,
   "metadata": {},
   "outputs": [
    {
     "name": "stdout",
     "output_type": "stream",
     "text": [
      "Total # of requests: 77649\n",
      "# of normal requests: 57605\n",
      "# of anomalous requests: 20044\n",
      "normal/anomalous ratio: 2.8739273598084214\n"
     ]
    }
   ],
   "source": [
    "print(\"Total # of requests: {}\".format(len(X_train)))\n",
    "print(\"# of normal requests: {}\".format(np.count_nonzero(y_train == 0)))\n",
    "print(\"# of anomalous requests: {}\".format(np.count_nonzero(y_train == 1)))\n",
    "print(\"normal/anomalous ratio: {}\".format(np.count_nonzero(y_train == 0)/np.count_nonzero(y_train == 1)))"
   ]
  },
  {
   "cell_type": "markdown",
   "metadata": {},
   "source": [
    "We can see from the output that the dataset is imbalanced with approx. 3:1 ratio.\n",
    "\n",
    "I don't have the computing power to do the tuning of hyperparameters and cross-validation with the whole training set, so I get random sample of 5000 requests from it."
   ]
  },
  {
   "cell_type": "code",
   "execution_count": 5,
   "metadata": {},
   "outputs": [],
   "source": [
    "mask = np.random.choice(len(X_train), 5000)\n",
    "X_train_sample = X_train[mask]\n",
    "y_train_sample = y_train[mask]"
   ]
  },
  {
   "cell_type": "markdown",
   "metadata": {},
   "source": [
    "`tokenize_and_vectorize` uses methods mentioned at the begining of the notebook to extract features from HTTP requests strings."
   ]
  },
  {
   "cell_type": "code",
   "execution_count": 6,
   "metadata": {},
   "outputs": [],
   "source": [
    "from sklearn.feature_extraction.text import TfidfVectorizer\n",
    "\n",
    "def tokenize_and_vectorize(train_requests, test_requests):\n",
    "    vectorizer = TfidfVectorizer(ngram_range=N_GRAMS_SIZE, min_df=2, lowercase=False,\n",
    "                                 strip_accents='unicode', decode_error='replace', analyzer='char')\n",
    "\n",
    "    x_train = vectorizer.fit_transform(train_requests)\n",
    "    x_test = vectorizer.transform(test_requests)\n",
    "    \n",
    "    return x_train, x_test"
   ]
  },
  {
   "cell_type": "markdown",
   "metadata": {},
   "source": [
    "We are going to use 5-fold cross-validation to find out which hyperparameters work the best."
   ]
  },
  {
   "cell_type": "code",
   "execution_count": 7,
   "metadata": {},
   "outputs": [],
   "source": [
    "from sklearn.svm import LinearSVC\n",
    "\n",
    "# Creating 5 folds\n",
    "num_folds = 5\n",
    " \n",
    "n_requests_folds = np.split(X_train_sample, num_folds)\n",
    "n_labels_folds = np.split(y_train_sample, num_folds)"
   ]
  },
  {
   "cell_type": "code",
   "execution_count": 8,
   "metadata": {},
   "outputs": [
    {
     "data": {
      "text/plain": [
       "<ErrorbarContainer object of 3 artists>"
      ]
     },
     "execution_count": 8,
     "metadata": {},
     "output_type": "execute_result"
    },
    {
     "data": {
      "image/png": "[encoded data removed]",
      "text/plain": [
       "<Figure size 432x288 with 1 Axes>"
      ]
     },
     "metadata": {
      "needs_background": "light"
     },
     "output_type": "display_data"
    }
   ],
   "source": [
    "n_gram_size_choices = [(1, 1), (1, 2), (1, 3), (1, 4), (2, 2), (2, 3), (2, 4), (3, 3), (3, 4), (4, 4)]\n",
    "\n",
    "accuracies = {}\n",
    "\n",
    "for (a, b) in n_gram_size_choices:   \n",
    "    N_GRAMS_SIZE = (a, b)\n",
    "    accuracies[(a, b)] = []\n",
    "    \n",
    "    for n in range(num_folds):\n",
    "        X_train_val = np.concatenate([n_requests_folds[i] for i in range(num_folds) if i != n])\n",
    "        y_train_val = np.concatenate([n_labels_folds[i] for i in range(num_folds) if i != n])\n",
    "        X_test_val = n_requests_folds[n]\n",
    "        y_test_val = n_labels_folds[n]\n",
    "\n",
    "        X_train_val, X_test_val = tokenize_and_vectorize(X_train_val, X_test_val)\n",
    "\n",
    "        classifier = LinearSVC()\n",
    "        classifier.fit(X_train_val, y_train_val)\n",
    "\n",
    "        y_test_val_pred = classifier.predict(X_test_val)\n",
    "        accuracies[(a, b)].append(np.sum(y_test_val_pred == y_test_val) / y_test_val.shape[0])\n",
    "        \n",
    "# Plot the accuracies\n",
    "accuracies_means = np.array([np.mean(v) for k,v in accuracies.items()])\n",
    "accuracies_stds = np.array([np.std(v) for k,v in accuracies.items()])\n",
    "\n",
    "for (a, b) in n_gram_size_choices:\n",
    "    acc = accuracies[(a, b)]\n",
    "    plt.scatter([\"({}, {})\".format(a, b) for i in range(len(acc))], acc)\n",
    "\n",
    "plt.errorbar([\"({}, {})\".format(a, b) for a, b in n_gram_size_choices], accuracies_means, yerr=accuracies_stds)"
   ]
  },
  {
   "cell_type": "markdown",
   "metadata": {},
   "source": [
    "We can see that the best options are (2, 2) and (2, 3) (the latter having smaller deviation)."
   ]
  },
  {
   "cell_type": "code",
   "execution_count": 9,
   "metadata": {},
   "outputs": [],
   "source": [
    "N_GRAMS_SIZE = (2, 3)"
   ]
  },
  {
   "cell_type": "markdown",
   "metadata": {},
   "source": [
    "Now we can get to the test set."
   ]
  },
  {
   "cell_type": "code",
   "execution_count": 10,
   "metadata": {},
   "outputs": [],
   "source": [
    "X_train, X_test = tokenize_and_vectorize(X_train, X_test)\n",
    "\n",
    "classifier = LinearSVC()\n",
    "classifier.fit(X_train, y_train)\n",
    "\n",
    "y_test_pred = classifier.predict(X_test)"
   ]
  },
  {
   "cell_type": "code",
   "execution_count": 11,
   "metadata": {},
   "outputs": [
    {
     "name": "stdout",
     "output_type": "stream",
     "text": [
      "Accuracy: 99.47%\n",
      "False negatives: 7\n",
      "False positives: 95\n",
      "True negatives: 14386\n",
      "True positives: 4925\n"
     ]
    }
   ],
   "source": [
    "print(\"Accuracy: {0:.2f}%\".format(np.sum(y_test_pred == y_test) / y_test.shape[0] * 100))\n",
    "print(\"False negatives: {}\".format(np.sum(np.logical_and(y_test_pred == 1, y_test == 0))))\n",
    "print(\"False positives: {}\".format(np.sum(np.logical_and(y_test_pred == 0, y_test == 1))))\n",
    "print(\"True negatives: {}\".format(np.sum(np.logical_and(y_test_pred == 0, y_test == 0))))\n",
    "print(\"True positives: {}\".format(np.sum(np.logical_and(y_test_pred == 1, y_test == 1))))"
   ]
  },
  {
   "cell_type": "markdown",
   "metadata": {},
   "source": [
    "In my opinion the accuracy of the classifier is pretty good. I'd be confident using it in production on a server with low traffic and no sensitive data.\n",
    "\n",
    "Used resources:\n",
    "* https://machinelearningmastery.com/prepare-text-data-machine-learning-scikit-learn/\n",
    "* https://developers.google.com/machine-learning/guides/text-classification/\n",
    "* http://users.jyu.fi/~timoh/TIES327/anomaly.pdf"
   ]
  }
 ],
 "metadata": {
  "kernelspec": {
   "display_name": "Python 3",
   "language": "python",
   "name": "python3"
  },
  "language_info": {
   "codemirror_mode": {
    "name": "ipython",
    "version": 3
   },
   "file_extension": ".py",
   "mimetype": "text/x-python",
   "name": "python",
   "nbconvert_exporter": "python",
   "pygments_lexer": "ipython3",
   "version": "3.7.3"
  }
 },
 "nbformat": 4,
 "nbformat_minor": 2
}
