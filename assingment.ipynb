{
 "cells": [
  {
   "cell_type": "markdown",
   "metadata": {},
   "source": [
    "# Interview Assingment"
   ]
  },
  {
   "cell_type": "code",
   "execution_count": 17,
   "metadata": {},
   "outputs": [],
   "source": [
    "import os, random\n",
    "import numpy as np\n",
    "import matplotlib.pyplot as plt\n",
    "\n",
    "from collections import Counter\n",
    "\n",
    "HTTP_METHODS = ['GET', 'HEAD', 'POST', 'PUT', 'DELETE', 'CONNECT', 'OPTIONS', 'TRACE', 'PATCH']"
   ]
  },
  {
   "cell_type": "markdown",
   "metadata": {},
   "source": [
    "Methods for loading individual requests from dataset. `load_requests_from_file` splits the files at the HTTP_METHODS keywords. `load_dataset` then merges train and test data in order to use supervised learning, returning tuple of shuffled requests and coresponding labels.\n",
    "\n",
    "##### Labels\n",
    "* 0 - normal request\n",
    "* 1 - anomalous request"
   ]
  },
  {
   "cell_type": "code",
   "execution_count": 20,
   "metadata": {},
   "outputs": [],
   "source": [
    "def load_requests_from_file(fname):\n",
    "    requests = []\n",
    "    \n",
    "    with open(fname) as f:\n",
    "        request = \"\"\n",
    "        for line in f:\n",
    "            if line.split(\" \")[0] in HTTP_METHODS and len(request) > 0:\n",
    "                requests.append(request.strip())\n",
    "                request = \"\"\n",
    "            request = request + line\n",
    "            \n",
    "    return requests\n",
    "\n",
    "def load_dataset(dataset_dir):\n",
    "    train_normal_requests = load_requests_from_file(os.path.join(dataset_dir, 'normalTrafficTraining.txt'))\n",
    "    test_normal_requests = load_requests_from_file(os.path.join(dataset_dir, 'normalTrafficTest.txt'))\n",
    "    test_anomalous_requests = load_requests_from_file(os.path.join(dataset_dir, 'anomalousTrafficTest.txt'))\n",
    "\n",
    "    requests = []\n",
    "    labels = []\n",
    "    \n",
    "    for request in train_normal_requests + test_normal_requests:\n",
    "        requests.append(request)\n",
    "        labels.append(0)\n",
    "        \n",
    "    for request in test_anomalous_requests:\n",
    "        requests.append(request)\n",
    "        labels.append(1)\n",
    "        \n",
    "    # Shuffle both requests and labels with same seed\n",
    "    random.seed()\n",
    "    seed = random.randint(1, 100)\n",
    "    random.seed(seed)\n",
    "    random.shuffle(requests)\n",
    "    random.seed(seed)\n",
    "    random.shuffle(labels)\n",
    "    \n",
    "    return (requests, np.array(labels))"
   ]
  },
  {
   "cell_type": "markdown",
   "metadata": {},
   "source": [
    "Methods for getting metrics from the dataset and its plotting features."
   ]
  },
  {
   "cell_type": "code",
   "execution_count": 21,
   "metadata": {},
   "outputs": [
    {
     "name": "stdout",
     "output_type": "stream",
     "text": [
      "Total number of requests: 97062\n",
      "Number of normal requests: 71998\n",
      "Number of anomalous requests: 25064\n",
      "Median of requests lengths: 517.0\n"
     ]
    },
    {
     "data": {
      "image/png": "[encoded data removed]",
      "text/plain": [
       "<Figure size 432x288 with 1 Axes>"
      ]
     },
     "metadata": {
      "needs_background": "light"
     },
     "output_type": "display_data"
    },
    {
     "data": {
      "image/png": "[encoded data removed]",
      "text/plain": [
       "<Figure size 432x288 with 1 Axes>"
      ]
     },
     "metadata": {
      "needs_background": "light"
     },
     "output_type": "display_data"
    }
   ],
   "source": [
    "def get_requests_lens_median(requests):\n",
    "    lengths = [len(r) for r in requests]\n",
    "    return np.median(lengths)\n",
    "\n",
    "def plot_request_length_distribution(requests):\n",
    "    plt.hist([len(r) for r in requests], 50)\n",
    "    plt.xlabel('Length of a request')\n",
    "    plt.ylabel('Number of requests')\n",
    "    plt.title('Request length distribution')\n",
    "    plt.show()\n",
    "    \n",
    "def plot_request_method_distribution(requests):\n",
    "    counter = Counter([r.split(\" \")[0] for r in requests])\n",
    "    plt.bar(range(len(counter)), list(counter.values()))\n",
    "    plt.xticks(range(len(counter)), list(counter.keys()))\n",
    "    plt.title('Request method distribution')\n",
    "    plt.show()\n",
    "\n",
    "requests, labels = load_dataset('dataset')\n",
    "\n",
    "print(\"Total number of requests: {}\".format(len(requests)))\n",
    "print(\"Number of normal requests: {}\".format(np.count_nonzero(labels == 0)))\n",
    "print(\"Number of anomalous requests: {}\".format(np.count_nonzero(labels == 1)))\n",
    "print(\"Median of requests lengths: {}\".format(get_requests_lens_median(requests)))\n",
    "plot_request_length_distribution(requests)\n",
    "plot_request_method_distribution(requests)"
   ]
  },
  {
   "cell_type": "code",
   "execution_count": null,
   "metadata": {},
   "outputs": [],
   "source": []
  }
 ],
 "metadata": {
  "kernelspec": {
   "display_name": "Python 3",
   "language": "python",
   "name": "python3"
  },
  "language_info": {
   "codemirror_mode": {
    "name": "ipython",
    "version": 3
   },
   "file_extension": ".py",
   "mimetype": "text/x-python",
   "name": "python",
   "nbconvert_exporter": "python",
   "pygments_lexer": "ipython3",
   "version": "3.7.3"
  }
 },
 "nbformat": 4,
 "nbformat_minor": 2
}
